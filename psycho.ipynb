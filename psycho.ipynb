{
 "cells": [
  {
   "cell_type": "code",
   "execution_count": 30,
   "metadata": {},
   "outputs": [],
   "source": [
    "import pandas as pd\n",
    "import numpy as np\n",
    "import seaborn as sns\n",
    "import matplotlib.pyplot as plt\n",
    "from bidi.algorithm import get_display\n",
    "import arabic_reshaper\n",
    "import re"
   ]
  },
  {
   "cell_type": "code",
   "execution_count": 111,
   "metadata": {},
   "outputs": [],
   "source": [
    "counseling = pd.read_excel('C:\\\\Users\\\\amitf\\\\Desktop\\\\amit\\\\Self practice\\\\data for analysis\\\\Haravot_Barzel\\\\counseling_centers.xlsx')\n",
    "counseling = counseling.copy()\n",
    "\n",
    "hospitals = pd.read_excel('C:\\\\Users\\\\amitf\\\\Desktop\\\\amit\\\\Self practice\\\\data for analysis\\\\Haravot_Barzel\\\\hospitals_psyc.xlsx')\n",
    "hospitals = hospitals.copy()\n",
    "\n",
    "casualties = pd.read_excel('C:\\\\Users\\\\amitf\\\\Desktop\\\\amit\\\\Self practice\\\\data for analysis\\\\Haravot_Barzel\\\\casualties.xlsx')\n",
    "casualties = casualties.copy()"
   ]
  },
  {
   "cell_type": "markdown",
   "metadata": {},
   "source": [
    "---"
   ]
  },
  {
   "cell_type": "markdown",
   "metadata": {},
   "source": [
    "### counseling"
   ]
  },
  {
   "cell_type": "markdown",
   "metadata": {},
   "source": [
    "#### Counseling centers for families of mentally injured people [link to the data source](https://data.gov.il/dataset/mtl-families-centers/resource/cef1c51a-452f-484d-8834-6bd77f696ad8)"
   ]
  },
  {
   "cell_type": "code",
   "execution_count": 70,
   "metadata": {},
   "outputs": [],
   "source": [
    "replace_dict = {\n",
    "    \"בית חנינא\": \"ירושלים\",\n",
    "    'גבעת שאול ': \"ירושלים\",\n",
    "    \"קריית ספר\": \"מודיעין-מכבים-רעות\",\n",
    "    \"פתח תקוה \" : 'פתח תקוה'\n",
    "}\n",
    "\n",
    "counseling['mtl_families_center_city'] = counseling['mtl_families_center_city'].replace(replace_dict)"
   ]
  },
  {
   "cell_type": "code",
   "execution_count": 64,
   "metadata": {},
   "outputs": [
    {
     "data": {
      "text/plain": [
       "array(['ירושלים', 'בית שמש', 'ביתר עלית', 'אשדוד', 'אשקלון', 'קרית מלאכי',\n",
       "       'נתיבות', 'קרית גת', 'חדרה', 'נתניה', 'כפר סבא', 'פתח תקוה',\n",
       "       'ראשון לציון', 'תל אביב', 'בני ברק', 'מודיעין-מכבים-רעות', 'רמלה',\n",
       "       'כרמיאל', 'חיפה', 'נצרת עילית', 'אור עקיבא', \"באקה אלג'רביה\",\n",
       "       'כפר קרע', 'קרית שמונה', 'עפולה', 'קרית ים', 'באר שבע', 'בת ים',\n",
       "       'רמת גן', 'באר יעקב', 'הוד השרון', 'צור משה', 'עכו', 'עמק חפר'],\n",
       "      dtype=object)"
      ]
     },
     "execution_count": 64,
     "metadata": {},
     "output_type": "execute_result"
    }
   ],
   "source": [
    "counseling['mtl_families_center_city'].unique()"
   ]
  },
  {
   "cell_type": "code",
   "execution_count": 65,
   "metadata": {},
   "outputs": [
    {
     "data": {
      "text/plain": [
       "(39, 6)"
      ]
     },
     "execution_count": 65,
     "metadata": {},
     "output_type": "execute_result"
    }
   ],
   "source": [
    "counseling.shape"
   ]
  },
  {
   "cell_type": "code",
   "execution_count": 66,
   "metadata": {},
   "outputs": [
    {
     "data": {
      "text/html": [
       "<div>\n",
       "<style scoped>\n",
       "    .dataframe tbody tr th:only-of-type {\n",
       "        vertical-align: middle;\n",
       "    }\n",
       "\n",
       "    .dataframe tbody tr th {\n",
       "        vertical-align: top;\n",
       "    }\n",
       "\n",
       "    .dataframe thead th {\n",
       "        text-align: right;\n",
       "    }\n",
       "</style>\n",
       "<table border=\"1\" class=\"dataframe\">\n",
       "  <thead>\n",
       "    <tr style=\"text-align: right;\">\n",
       "      <th></th>\n",
       "      <th>mtl_families_center_type</th>\n",
       "      <th>סוגי מרכזי ייעוץ</th>\n",
       "      <th>mtl_families_center_name</th>\n",
       "      <th>mtl_families_center_address</th>\n",
       "      <th>mtl_families_center_city</th>\n",
       "      <th>mtl_families_center_phone</th>\n",
       "    </tr>\n",
       "  </thead>\n",
       "  <tbody>\n",
       "    <tr>\n",
       "      <th>0</th>\n",
       "      <td>2</td>\n",
       "      <td>מרכזי יעוץ למשפחות בקהילה</td>\n",
       "      <td>מילם ירושלים</td>\n",
       "      <td>שד' הרצל 124,קומה ג, יד שרה</td>\n",
       "      <td>ירושלים</td>\n",
       "      <td>02-6522147</td>\n",
       "    </tr>\n",
       "    <tr>\n",
       "      <th>1</th>\n",
       "      <td>2</td>\n",
       "      <td>מרכזי יעוץ למשפחות בקהילה</td>\n",
       "      <td>מרכז יעוץ למשפחות ירושלים</td>\n",
       "      <td>בית הדפוס 11</td>\n",
       "      <td>ירושלים</td>\n",
       "      <td>073-3952205</td>\n",
       "    </tr>\n",
       "    <tr>\n",
       "      <th>2</th>\n",
       "      <td>2</td>\n",
       "      <td>מרכזי יעוץ למשפחות בקהילה</td>\n",
       "      <td>האדי מרכז יעוץ למשפחות בית חנינא</td>\n",
       "      <td>אל נחיל בית חנינא</td>\n",
       "      <td>ירושלים</td>\n",
       "      <td>02-5834944</td>\n",
       "    </tr>\n",
       "    <tr>\n",
       "      <th>3</th>\n",
       "      <td>2</td>\n",
       "      <td>מרכזי יעוץ למשפחות בקהילה</td>\n",
       "      <td>האדי מרכז יעוץ למשפחות בית שמש</td>\n",
       "      <td>שפת אמת 27</td>\n",
       "      <td>בית שמש</td>\n",
       "      <td>073-3952205</td>\n",
       "    </tr>\n",
       "    <tr>\n",
       "      <th>4</th>\n",
       "      <td>2</td>\n",
       "      <td>מרכזי יעוץ למשפחות בקהילה</td>\n",
       "      <td>האדי מרכז יעוץ למשפחות ביתר עלית</td>\n",
       "      <td>סלונים 1</td>\n",
       "      <td>ביתר עלית</td>\n",
       "      <td>073-3952205</td>\n",
       "    </tr>\n",
       "  </tbody>\n",
       "</table>\n",
       "</div>"
      ],
      "text/plain": [
       "   mtl_families_center_type           סוגי מרכזי ייעוץ  \\\n",
       "0                         2  מרכזי יעוץ למשפחות בקהילה   \n",
       "1                         2  מרכזי יעוץ למשפחות בקהילה   \n",
       "2                         2  מרכזי יעוץ למשפחות בקהילה   \n",
       "3                         2  מרכזי יעוץ למשפחות בקהילה   \n",
       "4                         2  מרכזי יעוץ למשפחות בקהילה   \n",
       "\n",
       "           mtl_families_center_name  mtl_families_center_address  \\\n",
       "0                     מילם ירושלים   שד' הרצל 124,קומה ג, יד שרה   \n",
       "1         מרכז יעוץ למשפחות ירושלים                בית הדפוס 11    \n",
       "2  האדי מרכז יעוץ למשפחות בית חנינא            אל נחיל בית חנינא   \n",
       "3    האדי מרכז יעוץ למשפחות בית שמש                   שפת אמת 27   \n",
       "4  האדי מרכז יעוץ למשפחות ביתר עלית                     סלונים 1   \n",
       "\n",
       "  mtl_families_center_city mtl_families_center_phone  \n",
       "0                  ירושלים                02-6522147  \n",
       "1                  ירושלים               073-3952205  \n",
       "2                  ירושלים                02-5834944  \n",
       "3                  בית שמש               073-3952205  \n",
       "4                ביתר עלית               073-3952205  "
      ]
     },
     "execution_count": 66,
     "metadata": {},
     "output_type": "execute_result"
    }
   ],
   "source": [
    "counseling.head()"
   ]
  },
  {
   "cell_type": "code",
   "execution_count": 67,
   "metadata": {},
   "outputs": [
    {
     "data": {
      "image/png": "[encoded data removed]",
      "text/plain": [
       "<Figure size 864x432 with 1 Axes>"
      ]
     },
     "metadata": {
      "needs_background": "light"
     },
     "output_type": "display_data"
    }
   ],
   "source": [
    "# Reshape and reverse text direction for Hebrew\n",
    "counseling['mtl_families_center_city'] = counseling['mtl_families_center_city'].apply(lambda x: get_display(arabic_reshaper.reshape(x)))\n",
    "\n",
    "# Plot the count of rows for each value in the 'mtl_families_center_city' column\n",
    "plt.figure(figsize=(12, 6))\n",
    "sns.countplot(data=counseling, x='mtl_families_center_city', order=counseling['mtl_families_center_city'].value_counts().index)\n",
    "\n",
    "# Set the title and labels with right-to-left text direction\n",
    "plt.title(get_display(arabic_reshaper.reshape('num of counseling centers')), fontsize=14, loc='right')\n",
    "plt.xlabel(get_display(arabic_reshaper.reshape('city')), fontsize=12, loc='right')\n",
    "plt.ylabel(get_display(arabic_reshaper.reshape('num of counseling centers')), fontsize=12, loc='bottom')\n",
    "plt.xticks(rotation=45, ha='right')\n",
    "plt.gca().invert_xaxis()\n",
    "plt.show()"
   ]
  },
  {
   "cell_type": "markdown",
   "metadata": {},
   "source": [
    "#### the cities with the most mental health centers are **Jerusalem, followed by Bnei Brak and Petah Tikva.**"
   ]
  },
  {
   "cell_type": "code",
   "execution_count": 71,
   "metadata": {},
   "outputs": [
    {
     "data": {
      "text/html": [
       "<div>\n",
       "<style scoped>\n",
       "    .dataframe tbody tr th:only-of-type {\n",
       "        vertical-align: middle;\n",
       "    }\n",
       "\n",
       "    .dataframe tbody tr th {\n",
       "        vertical-align: top;\n",
       "    }\n",
       "\n",
       "    .dataframe thead th {\n",
       "        text-align: right;\n",
       "    }\n",
       "</style>\n",
       "<table border=\"1\" class=\"dataframe\">\n",
       "  <thead>\n",
       "    <tr style=\"text-align: right;\">\n",
       "      <th></th>\n",
       "      <th>district</th>\n",
       "      <th>city</th>\n",
       "      <th>centers_num</th>\n",
       "    </tr>\n",
       "  </thead>\n",
       "  <tbody>\n",
       "    <tr>\n",
       "      <th>0</th>\n",
       "      <td>אשדוד</td>\n",
       "      <td>[אשדוד]</td>\n",
       "      <td>1</td>\n",
       "    </tr>\n",
       "    <tr>\n",
       "      <th>1</th>\n",
       "      <td>אשקלון</td>\n",
       "      <td>[אשקלון, קרית גת, קרית מלאכי]</td>\n",
       "      <td>3</td>\n",
       "    </tr>\n",
       "    <tr>\n",
       "      <th>2</th>\n",
       "      <td>באר שבע</td>\n",
       "      <td>[באר שבע]</td>\n",
       "      <td>1</td>\n",
       "    </tr>\n",
       "    <tr>\n",
       "      <th>3</th>\n",
       "      <td>השרון</td>\n",
       "      <td>[נתניה, עמק חפר, צור משה]</td>\n",
       "      <td>3</td>\n",
       "    </tr>\n",
       "    <tr>\n",
       "      <th>4</th>\n",
       "      <td>חדרה</td>\n",
       "      <td>[אור עקיבא, באקה אלג'רביה, חדרה, כפר קרע]</td>\n",
       "      <td>4</td>\n",
       "    </tr>\n",
       "    <tr>\n",
       "      <th>5</th>\n",
       "      <td>חולון</td>\n",
       "      <td>[בת ים]</td>\n",
       "      <td>1</td>\n",
       "    </tr>\n",
       "    <tr>\n",
       "      <th>6</th>\n",
       "      <td>חיפה</td>\n",
       "      <td>[חיפה, קרית ים]</td>\n",
       "      <td>2</td>\n",
       "    </tr>\n",
       "    <tr>\n",
       "      <th>7</th>\n",
       "      <td>יזרעאל</td>\n",
       "      <td>[עפולה]</td>\n",
       "      <td>1</td>\n",
       "    </tr>\n",
       "    <tr>\n",
       "      <th>8</th>\n",
       "      <td>ירושלים</td>\n",
       "      <td>[בית שמש, ביתר עלית, ירושלים]</td>\n",
       "      <td>6</td>\n",
       "    </tr>\n",
       "    <tr>\n",
       "      <th>9</th>\n",
       "      <td>כרמיאל</td>\n",
       "      <td>[כרמיאל]</td>\n",
       "      <td>1</td>\n",
       "    </tr>\n",
       "    <tr>\n",
       "      <th>10</th>\n",
       "      <td>מודיעין-מכבים-רעות</td>\n",
       "      <td>[מודיעין-מכבים-רעות]</td>\n",
       "      <td>1</td>\n",
       "    </tr>\n",
       "    <tr>\n",
       "      <th>11</th>\n",
       "      <td>נצרת עילית</td>\n",
       "      <td>[נצרת עילית]</td>\n",
       "      <td>1</td>\n",
       "    </tr>\n",
       "    <tr>\n",
       "      <th>12</th>\n",
       "      <td>נתיבות</td>\n",
       "      <td>[נתיבות]</td>\n",
       "      <td>1</td>\n",
       "    </tr>\n",
       "    <tr>\n",
       "      <th>13</th>\n",
       "      <td>עכו</td>\n",
       "      <td>[עכו]</td>\n",
       "      <td>1</td>\n",
       "    </tr>\n",
       "    <tr>\n",
       "      <th>14</th>\n",
       "      <td>פתח תקוה</td>\n",
       "      <td>[הוד השרון, כפר סבא, פתח תקוה]</td>\n",
       "      <td>4</td>\n",
       "    </tr>\n",
       "    <tr>\n",
       "      <th>15</th>\n",
       "      <td>קרית שמונה</td>\n",
       "      <td>[קרית שמונה]</td>\n",
       "      <td>1</td>\n",
       "    </tr>\n",
       "    <tr>\n",
       "      <th>16</th>\n",
       "      <td>ראשון לציון</td>\n",
       "      <td>[ראשון לציון]</td>\n",
       "      <td>1</td>\n",
       "    </tr>\n",
       "    <tr>\n",
       "      <th>17</th>\n",
       "      <td>רמלה</td>\n",
       "      <td>[באר יעקב, רמלה]</td>\n",
       "      <td>2</td>\n",
       "    </tr>\n",
       "    <tr>\n",
       "      <th>18</th>\n",
       "      <td>רמת גן</td>\n",
       "      <td>[בני ברק, רמת גן]</td>\n",
       "      <td>3</td>\n",
       "    </tr>\n",
       "    <tr>\n",
       "      <th>19</th>\n",
       "      <td>תל אביב</td>\n",
       "      <td>[תל אביב]</td>\n",
       "      <td>1</td>\n",
       "    </tr>\n",
       "  </tbody>\n",
       "</table>\n",
       "</div>"
      ],
      "text/plain": [
       "              district                                       city  centers_num\n",
       "0                אשדוד                                    [אשדוד]            1\n",
       "1               אשקלון              [אשקלון, קרית גת, קרית מלאכי]            3\n",
       "2              באר שבע                                  [באר שבע]            1\n",
       "3                השרון                  [נתניה, עמק חפר, צור משה]            3\n",
       "4                 חדרה  [אור עקיבא, באקה אלג'רביה, חדרה, כפר קרע]            4\n",
       "5                חולון                                    [בת ים]            1\n",
       "6                 חיפה                            [חיפה, קרית ים]            2\n",
       "7               יזרעאל                                    [עפולה]            1\n",
       "8              ירושלים              [בית שמש, ביתר עלית, ירושלים]            6\n",
       "9               כרמיאל                                   [כרמיאל]            1\n",
       "10  מודיעין-מכבים-רעות                       [מודיעין-מכבים-רעות]            1\n",
       "11          נצרת עילית                               [נצרת עילית]            1\n",
       "12              נתיבות                                   [נתיבות]            1\n",
       "13                 עכו                                      [עכו]            1\n",
       "14            פתח תקוה             [הוד השרון, כפר סבא, פתח תקוה]            4\n",
       "15          קרית שמונה                               [קרית שמונה]            1\n",
       "16         ראשון לציון                              [ראשון לציון]            1\n",
       "17                רמלה                           [באר יעקב, רמלה]            2\n",
       "18              רמת גן                          [בני ברק, רמת גן]            3\n",
       "19             תל אביב                                  [תל אביב]            1"
      ]
     },
     "execution_count": 71,
     "metadata": {},
     "output_type": "execute_result"
    }
   ],
   "source": [
    "def map_to_district(city):\n",
    "    mapping = {\n",
    "        \"הוד השרון\": \"פתח תקוה\",\n",
    "        \"כפר סבא\": \"פתח תקוה\",\n",
    "        \"בני ברק\": \"רמת גן\",\n",
    "        \"כפר קרע\": \"חדרה\",\n",
    "        \"באקה אלג'רביה\": \"חדרה\",\n",
    "        \"אור עקיבא\": \"חדרה\",\n",
    "        \"בת ים\": \"חולון\",\n",
    "        \"באר יעקב\": \"רמלה\",\n",
    "        \"עפולה\": \"יזרעאל\",\n",
    "        \"קרית מלאכי\": \"אשקלון\",\n",
    "        \"קרית גת\": \"אשקלון\",\n",
    "        \"צור משה\": \"השרון\",\n",
    "        \"נתניה\": \"השרון\",\n",
    "        \"עמק חפר\": \"השרון\",\n",
    "        \"קרית ים\": \"חיפה\",\n",
    "        \"ביתר עלית\": \"ירושלים\",\n",
    "        \"בית שמש\": \"ירושלים\"\n",
    "    }\n",
    "    return mapping.get(city, city)\n",
    "\n",
    "grouped = counseling.groupby('mtl_families_center_city')['mtl_families_center_name'].apply(list).reset_index()\n",
    "grouped['centers_num'] = grouped['mtl_families_center_name'].apply(len)\n",
    "grouped['district'] = grouped['mtl_families_center_city'].apply(map_to_district)\n",
    "district_sum = grouped.groupby('district')['centers_num'].sum().reset_index()\n",
    "grouped.set_index('district', inplace=True)\n",
    "counseling_grouped = grouped.groupby('district')['mtl_families_center_city'].apply(list).reset_index()\n",
    "counseling_grouped = counseling_grouped.merge(district_sum, on='district')\n",
    "counseling_grouped.rename(columns={'mtl_families_center_city': 'city'}, inplace=True)\n",
    "counseling_grouped"
   ]
  },
  {
   "cell_type": "code",
   "execution_count": 72,
   "metadata": {},
   "outputs": [
    {
     "data": {
      "image/png": "[encoded data removed]",
      "text/plain": [
       "<Figure size 720x432 with 1 Axes>"
      ]
     },
     "metadata": {
      "needs_background": "light"
     },
     "output_type": "display_data"
    }
   ],
   "source": [
    "counseling_grouped['district'] = counseling_grouped['district'].apply(lambda x: get_display(arabic_reshaper.reshape(x)))\n",
    "plt.figure(figsize=(10, 6))\n",
    "plt.bar(counseling_grouped['district'], counseling_grouped['centers_num'], color='skyblue')\n",
    "plt.title(get_display(arabic_reshaper.reshape('num of counseling centers')), fontsize=14, loc='right')\n",
    "plt.xlabel(get_display(arabic_reshaper.reshape('district')), fontsize=12, loc='right')\n",
    "plt.ylabel(get_display(arabic_reshaper.reshape('num of counseling centers')), fontsize=12, loc='bottom')\n",
    "plt.xticks(rotation=45, ha='right')\n",
    "plt.tight_layout()\n",
    "plt.show()"
   ]
  },
  {
   "cell_type": "markdown",
   "metadata": {},
   "source": [
    "#### The regions/districts with the most mental health centers are **Jerusalem, followed by Hadera and Petah Tikva.**"
   ]
  },
  {
   "cell_type": "markdown",
   "metadata": {},
   "source": [
    "---"
   ]
  },
  {
   "cell_type": "markdown",
   "metadata": {},
   "source": [
    "### hospitals"
   ]
  },
  {
   "cell_type": "markdown",
   "metadata": {},
   "source": [
    "#### Psychiatric hospitals and psychiatric wards in general hospitals [link to the data source](https://data.gov.il/dataset/hospitals_psyc/resource/5b4dfe37-ca97-4973-9752-5f1950939832)"
   ]
  },
  {
   "cell_type": "code",
   "execution_count": 112,
   "metadata": {},
   "outputs": [],
   "source": [
    "hospitals = hospitals[['hospital_name','district','city','age_description','age_code']]"
   ]
  },
  {
   "cell_type": "code",
   "execution_count": 113,
   "metadata": {},
   "outputs": [
    {
     "data": {
      "text/plain": [
       "(38, 5)"
      ]
     },
     "execution_count": 113,
     "metadata": {},
     "output_type": "execute_result"
    }
   ],
   "source": [
    "hospitals.shape"
   ]
  },
  {
   "cell_type": "code",
   "execution_count": 114,
   "metadata": {},
   "outputs": [
    {
     "data": {
      "text/html": [
       "<div>\n",
       "<style scoped>\n",
       "    .dataframe tbody tr th:only-of-type {\n",
       "        vertical-align: middle;\n",
       "    }\n",
       "\n",
       "    .dataframe tbody tr th {\n",
       "        vertical-align: top;\n",
       "    }\n",
       "\n",
       "    .dataframe thead th {\n",
       "        text-align: right;\n",
       "    }\n",
       "</style>\n",
       "<table border=\"1\" class=\"dataframe\">\n",
       "  <thead>\n",
       "    <tr style=\"text-align: right;\">\n",
       "      <th></th>\n",
       "      <th>hospital_name</th>\n",
       "      <th>district</th>\n",
       "      <th>city</th>\n",
       "      <th>age_description</th>\n",
       "      <th>age_code</th>\n",
       "    </tr>\n",
       "  </thead>\n",
       "  <tbody>\n",
       "    <tr>\n",
       "      <th>33</th>\n",
       "      <td>שלוותה</td>\n",
       "      <td>פתח תקווה</td>\n",
       "      <td>הוד השרון</td>\n",
       "      <td>כל הגילאים</td>\n",
       "      <td>1</td>\n",
       "    </tr>\n",
       "    <tr>\n",
       "      <th>34</th>\n",
       "      <td>אילנית</td>\n",
       "      <td>חדרה</td>\n",
       "      <td>פרדס חנה-כרכור</td>\n",
       "      <td>מבוגרים</td>\n",
       "      <td>2</td>\n",
       "    </tr>\n",
       "    <tr>\n",
       "      <th>35</th>\n",
       "      <td>הרצוג</td>\n",
       "      <td>ירושלים</td>\n",
       "      <td>ירושלים</td>\n",
       "      <td>כל הגילאים</td>\n",
       "      <td>1</td>\n",
       "    </tr>\n",
       "    <tr>\n",
       "      <th>36</th>\n",
       "      <td>שיקום לוינשטיין</td>\n",
       "      <td>פתח תקווה</td>\n",
       "      <td>רעננה</td>\n",
       "      <td>מבוגרים</td>\n",
       "      <td>2</td>\n",
       "    </tr>\n",
       "    <tr>\n",
       "      <th>37</th>\n",
       "      <td>אלין</td>\n",
       "      <td>ירושלים</td>\n",
       "      <td>ירושלים</td>\n",
       "      <td>קטינים</td>\n",
       "      <td>3</td>\n",
       "    </tr>\n",
       "  </tbody>\n",
       "</table>\n",
       "</div>"
      ],
      "text/plain": [
       "      hospital_name         district            city age_description  age_code\n",
       "33           שלוותה  פתח תקווה             הוד השרון      כל הגילאים         1\n",
       "34           אילנית  חדרה             פרדס חנה-כרכור         מבוגרים         2\n",
       "35            הרצוג  ירושלים                 ירושלים      כל הגילאים         1\n",
       "36  שיקום לוינשטיין  פתח תקווה                 רעננה         מבוגרים         2\n",
       "37             אלין  ירושלים                 ירושלים          קטינים         3"
      ]
     },
     "execution_count": 114,
     "metadata": {},
     "output_type": "execute_result"
    }
   ],
   "source": [
    "hospitals.tail()"
   ]
  },
  {
   "cell_type": "code",
   "execution_count": 115,
   "metadata": {},
   "outputs": [],
   "source": [
    "def clean_age_description(age_list):\n",
    "    if \"כל הגילאים\" in age_list:\n",
    "        return \"כל הגילאים\"\n",
    "    if \"מבוגרים\" in age_list and \"קטינים\" in age_list:\n",
    "        return \"כל הגילאים\"\n",
    "    return age_list[0]\n",
    "\n",
    "district_data = hospitals.groupby('district').agg({\n",
    "    'city': list,\n",
    "    'age_description': list,\n",
    "    'hospital_name' : list\n",
    "}).reset_index()\n",
    "district_data['age_description'] = district_data['age_description'].apply(clean_age_description)\n",
    "district_data['centers_num'] = district_data['city'].apply(len)"
   ]
  },
  {
   "cell_type": "code",
   "execution_count": 116,
   "metadata": {},
   "outputs": [
    {
     "data": {
      "text/html": [
       "<div>\n",
       "<style scoped>\n",
       "    .dataframe tbody tr th:only-of-type {\n",
       "        vertical-align: middle;\n",
       "    }\n",
       "\n",
       "    .dataframe tbody tr th {\n",
       "        vertical-align: top;\n",
       "    }\n",
       "\n",
       "    .dataframe thead th {\n",
       "        text-align: right;\n",
       "    }\n",
       "</style>\n",
       "<table border=\"1\" class=\"dataframe\">\n",
       "  <thead>\n",
       "    <tr style=\"text-align: right;\">\n",
       "      <th></th>\n",
       "      <th>district</th>\n",
       "      <th>city</th>\n",
       "      <th>age_description</th>\n",
       "      <th>hospital_name</th>\n",
       "      <th>centers_num</th>\n",
       "    </tr>\n",
       "  </thead>\n",
       "  <tbody>\n",
       "    <tr>\n",
       "      <th>0</th>\n",
       "      <td>אשקלון</td>\n",
       "      <td>[אשקלון]</td>\n",
       "      <td>כל הגילאים</td>\n",
       "      <td>[ברזילי]</td>\n",
       "      <td>1</td>\n",
       "    </tr>\n",
       "    <tr>\n",
       "      <th>1</th>\n",
       "      <td>באר שבע</td>\n",
       "      <td>[באר שבע, באר שבע]</td>\n",
       "      <td>כל הגילאים</td>\n",
       "      <td>[סורוקה, בריאות הנפש ב\"ש]</td>\n",
       "      <td>2</td>\n",
       "    </tr>\n",
       "    <tr>\n",
       "      <th>2</th>\n",
       "      <td>השרון</td>\n",
       "      <td>[נתניה]</td>\n",
       "      <td>כל הגילאים</td>\n",
       "      <td>[לב השרון]</td>\n",
       "      <td>1</td>\n",
       "    </tr>\n",
       "    <tr>\n",
       "      <th>3</th>\n",
       "      <td>חדרה</td>\n",
       "      <td>[חדרה, שער מנשה, פרדס חנה-כרכור]</td>\n",
       "      <td>כל הגילאים</td>\n",
       "      <td>[הלל יפה, שער מנשה, אילנית]</td>\n",
       "      <td>3</td>\n",
       "    </tr>\n",
       "    <tr>\n",
       "      <th>4</th>\n",
       "      <td>חולון</td>\n",
       "      <td>[חולון, בת ים]</td>\n",
       "      <td>כל הגילאים</td>\n",
       "      <td>[וולפסון, יהודה אברבנאל]</td>\n",
       "      <td>2</td>\n",
       "    </tr>\n",
       "    <tr>\n",
       "      <th>5</th>\n",
       "      <td>חיפה</td>\n",
       "      <td>[חיפה, חיפה, טירת כרמל]</td>\n",
       "      <td>כל הגילאים</td>\n",
       "      <td>[רמב\"ם, בני ציון, מעלה הכרמל]</td>\n",
       "      <td>3</td>\n",
       "    </tr>\n",
       "    <tr>\n",
       "      <th>6</th>\n",
       "      <td>יזרעאל</td>\n",
       "      <td>[עפולה]</td>\n",
       "      <td>כל הגילאים</td>\n",
       "      <td>[המרכזי בעמק]</td>\n",
       "      <td>1</td>\n",
       "    </tr>\n",
       "    <tr>\n",
       "      <th>7</th>\n",
       "      <td>ירושלים</td>\n",
       "      <td>[ירושלים, ירושלים, ירושלים, ירושלים, ירושלים, ...</td>\n",
       "      <td>כל הגילאים</td>\n",
       "      <td>[הדסה עין כרם, הדסה הר הצופים, שערי צדק, מרכז ...</td>\n",
       "      <td>6</td>\n",
       "    </tr>\n",
       "    <tr>\n",
       "      <th>8</th>\n",
       "      <td>כנרת</td>\n",
       "      <td>[טבריה]</td>\n",
       "      <td>מבוגרים</td>\n",
       "      <td>[מ.ר. צפון (פוריה)]</td>\n",
       "      <td>1</td>\n",
       "    </tr>\n",
       "    <tr>\n",
       "      <th>9</th>\n",
       "      <td>נצרת</td>\n",
       "      <td>[נצרת, נצרת, נצרת]</td>\n",
       "      <td>כל הגילאים</td>\n",
       "      <td>[הסקוטי, סנט וינסנט, המשפחה הקדושה]</td>\n",
       "      <td>3</td>\n",
       "    </tr>\n",
       "    <tr>\n",
       "      <th>10</th>\n",
       "      <td>עכו</td>\n",
       "      <td>[נהריה, עכו]</td>\n",
       "      <td>כל הגילאים</td>\n",
       "      <td>[נהריה, מזור]</td>\n",
       "      <td>2</td>\n",
       "    </tr>\n",
       "    <tr>\n",
       "      <th>11</th>\n",
       "      <td>פתח תקווה</td>\n",
       "      <td>[כפר סבא, פתח תקווה, פתח תקווה, הוד השרון, רעננה]</td>\n",
       "      <td>כל הגילאים</td>\n",
       "      <td>[מאיר, שניידר, גהה, שלוותה, שיקום לוינשטיין]</td>\n",
       "      <td>5</td>\n",
       "    </tr>\n",
       "    <tr>\n",
       "      <th>12</th>\n",
       "      <td>צפת</td>\n",
       "      <td>[צפת]</td>\n",
       "      <td>כל הגילאים</td>\n",
       "      <td>[זיו צפת]</td>\n",
       "      <td>1</td>\n",
       "    </tr>\n",
       "    <tr>\n",
       "      <th>13</th>\n",
       "      <td>רחובות</td>\n",
       "      <td>[רחובות]</td>\n",
       "      <td>מבוגרים</td>\n",
       "      <td>[קפלן]</td>\n",
       "      <td>1</td>\n",
       "    </tr>\n",
       "    <tr>\n",
       "      <th>14</th>\n",
       "      <td>רמלה</td>\n",
       "      <td>[באר יעקב, באר יעקב]</td>\n",
       "      <td>כל הגילאים</td>\n",
       "      <td>[שמיר, מרחבים]</td>\n",
       "      <td>2</td>\n",
       "    </tr>\n",
       "    <tr>\n",
       "      <th>15</th>\n",
       "      <td>רמת גן</td>\n",
       "      <td>[רמת גן, בני ברק]</td>\n",
       "      <td>כל הגילאים</td>\n",
       "      <td>[שיבא, מעייני הישועה]</td>\n",
       "      <td>2</td>\n",
       "    </tr>\n",
       "    <tr>\n",
       "      <th>16</th>\n",
       "      <td>תל-אביב</td>\n",
       "      <td>[תל אביב - יפו, הרצליה]</td>\n",
       "      <td>כל הגילאים</td>\n",
       "      <td>[סוראסקי, מרכז רפואי הרצליה]</td>\n",
       "      <td>2</td>\n",
       "    </tr>\n",
       "  </tbody>\n",
       "</table>\n",
       "</div>"
      ],
      "text/plain": [
       "           district                                               city  \\\n",
       "0   אשקלון                                                    [אשקלון]   \n",
       "1   באר שבע                                         [באר שבע, באר שבע]   \n",
       "2   השרון                                                      [נתניה]   \n",
       "3   חדרה                              [חדרה, שער מנשה, פרדס חנה-כרכור]   \n",
       "4             חולון                                     [חולון, בת ים]   \n",
       "5   חיפה                                       [חיפה, חיפה, טירת כרמל]   \n",
       "6   יזרעאל                                                     [עפולה]   \n",
       "7   ירושלים          [ירושלים, ירושלים, ירושלים, ירושלים, ירושלים, ...   \n",
       "8   כנרת                                                       [טבריה]   \n",
       "9              נצרת                                 [נצרת, נצרת, נצרת]   \n",
       "10  עכו                                                   [נהריה, עכו]   \n",
       "11  פתח תקווה        [כפר סבא, פתח תקווה, פתח תקווה, הוד השרון, רעננה]   \n",
       "12  צפת                                                          [צפת]   \n",
       "13  רחובות                                                    [רחובות]   \n",
       "14  רמלה                                          [באר יעקב, באר יעקב]   \n",
       "15           רמת גן                                  [רמת גן, בני ברק]   \n",
       "16  תל-אביב                                    [תל אביב - יפו, הרצליה]   \n",
       "\n",
       "   age_description                                      hospital_name  \\\n",
       "0       כל הגילאים                                           [ברזילי]   \n",
       "1       כל הגילאים                          [סורוקה, בריאות הנפש ב\"ש]   \n",
       "2       כל הגילאים                                         [לב השרון]   \n",
       "3       כל הגילאים                        [הלל יפה, שער מנשה, אילנית]   \n",
       "4       כל הגילאים                           [וולפסון, יהודה אברבנאל]   \n",
       "5       כל הגילאים                      [רמב\"ם, בני ציון, מעלה הכרמל]   \n",
       "6       כל הגילאים                                      [המרכזי בעמק]   \n",
       "7       כל הגילאים  [הדסה עין כרם, הדסה הר הצופים, שערי צדק, מרכז ...   \n",
       "8          מבוגרים                                [מ.ר. צפון (פוריה)]   \n",
       "9       כל הגילאים                [הסקוטי, סנט וינסנט, המשפחה הקדושה]   \n",
       "10      כל הגילאים                                      [נהריה, מזור]   \n",
       "11      כל הגילאים       [מאיר, שניידר, גהה, שלוותה, שיקום לוינשטיין]   \n",
       "12      כל הגילאים                                          [זיו צפת]   \n",
       "13         מבוגרים                                             [קפלן]   \n",
       "14      כל הגילאים                                     [שמיר, מרחבים]   \n",
       "15      כל הגילאים                              [שיבא, מעייני הישועה]   \n",
       "16      כל הגילאים                       [סוראסקי, מרכז רפואי הרצליה]   \n",
       "\n",
       "    centers_num  \n",
       "0             1  \n",
       "1             2  \n",
       "2             1  \n",
       "3             3  \n",
       "4             2  \n",
       "5             3  \n",
       "6             1  \n",
       "7             6  \n",
       "8             1  \n",
       "9             3  \n",
       "10            2  \n",
       "11            5  \n",
       "12            1  \n",
       "13            1  \n",
       "14            2  \n",
       "15            2  \n",
       "16            2  "
      ]
     },
     "execution_count": 116,
     "metadata": {},
     "output_type": "execute_result"
    }
   ],
   "source": [
    "district_data"
   ]
  },
  {
   "cell_type": "code",
   "execution_count": 121,
   "metadata": {},
   "outputs": [
    {
     "data": {
      "image/png": "[encoded data removed]",
      "text/plain": [
       "<Figure size 1008x432 with 1 Axes>"
      ]
     },
     "metadata": {
      "needs_background": "light"
     },
     "output_type": "display_data"
    }
   ],
   "source": [
    "district_data['district_display'] = district_data['district'].apply(lambda x: get_display(arabic_reshaper.reshape(x)))\n",
    "color_map = {'כל הגילאים': 'skyblue','מבוגרים': 'lightgreen','קטינים': 'salmon'}\n",
    "plt.figure(figsize=(14, 6))\n",
    "bars = plt.bar(district_data['district_display'], district_data['centers_num'], \n",
    "               color=[color_map[age_desc] for age_desc in district_data['age_description']])\n",
    "plt.title(get_display(arabic_reshaper.reshape('Number of Centers per District')), fontsize=14, loc='right')\n",
    "plt.xlabel(get_display(arabic_reshaper.reshape('District')), fontsize=12, loc='right')\n",
    "plt.ylabel(get_display(arabic_reshaper.reshape('Number of Centers')), fontsize=12, loc='bottom')\n",
    "for bar, num in zip(bars, district_data['centers_num']):\n",
    "    plt.text(bar.get_x() + bar.get_width() / 2, bar.get_height(), str(num), ha='center', va='bottom')\n",
    "legend_labels = {get_display(arabic_reshaper.reshape(key)): value for key, value in color_map.items()}\n",
    "legend_handles = [plt.Rectangle((0,0), 1, 1, color=color) for color in color_map.values()]\n",
    "plt.legend(legend_handles, legend_labels, loc='upper left')\n",
    "plt.tight_layout()\n",
    "plt.show()"
   ]
  },
  {
   "cell_type": "markdown",
   "metadata": {},
   "source": [
    "#### The districts where there are the most psychiatric departments in hospitals are **Jerusalem and then Petah Tikva.**\n",
    "#### In areas such as **Kinneret and Rehovot** there is no psychiatric department for young people/minors dealing with mental problems that require hospitalization."
   ]
  },
  {
   "cell_type": "markdown",
   "metadata": {},
   "source": [
    "---"
   ]
  },
  {
   "cell_type": "markdown",
   "metadata": {},
   "source": [
    "### casualties"
   ]
  },
  {
   "cell_type": "markdown",
   "metadata": {},
   "source": [
    "#### Total casualties in the \"Harvot Barzel\" war by districts [link to the data source](https://datadashboard.health.gov.il/portal/dashboard/health)"
   ]
  },
  {
   "cell_type": "code",
   "execution_count": 124,
   "metadata": {},
   "outputs": [
    {
     "data": {
      "text/html": [
       "<div>\n",
       "<style scoped>\n",
       "    .dataframe tbody tr th:only-of-type {\n",
       "        vertical-align: middle;\n",
       "    }\n",
       "\n",
       "    .dataframe tbody tr th {\n",
       "        vertical-align: top;\n",
       "    }\n",
       "\n",
       "    .dataframe thead th {\n",
       "        text-align: right;\n",
       "    }\n",
       "</style>\n",
       "<table border=\"1\" class=\"dataframe\">\n",
       "  <thead>\n",
       "    <tr style=\"text-align: right;\">\n",
       "      <th></th>\n",
       "      <th>district</th>\n",
       "      <th>casualties</th>\n",
       "    </tr>\n",
       "  </thead>\n",
       "  <tbody>\n",
       "    <tr>\n",
       "      <th>1</th>\n",
       "      <td>אשקלון</td>\n",
       "      <td>1240</td>\n",
       "    </tr>\n",
       "    <tr>\n",
       "      <th>2</th>\n",
       "      <td>לא רשום</td>\n",
       "      <td>923</td>\n",
       "    </tr>\n",
       "    <tr>\n",
       "      <th>3</th>\n",
       "      <td>תל אביב - יפו</td>\n",
       "      <td>799</td>\n",
       "    </tr>\n",
       "    <tr>\n",
       "      <th>4</th>\n",
       "      <td>ירושלים</td>\n",
       "      <td>665</td>\n",
       "    </tr>\n",
       "    <tr>\n",
       "      <th>5</th>\n",
       "      <td>באר שבע</td>\n",
       "      <td>458</td>\n",
       "    </tr>\n",
       "    <tr>\n",
       "      <th>...</th>\n",
       "      <td>...</td>\n",
       "      <td>...</td>\n",
       "    </tr>\n",
       "    <tr>\n",
       "      <th>220</th>\n",
       "      <td>ג'ת</td>\n",
       "      <td>קטן מ-5</td>\n",
       "    </tr>\n",
       "    <tr>\n",
       "      <th>221</th>\n",
       "      <td>נחף</td>\n",
       "      <td>קטן מ-5</td>\n",
       "    </tr>\n",
       "    <tr>\n",
       "      <th>222</th>\n",
       "      <td>סח'נין</td>\n",
       "      <td>קטן מ-5</td>\n",
       "    </tr>\n",
       "    <tr>\n",
       "      <th>223</th>\n",
       "      <td>טירה</td>\n",
       "      <td>קטן מ-5</td>\n",
       "    </tr>\n",
       "    <tr>\n",
       "      <th>224</th>\n",
       "      <td>דבוריה</td>\n",
       "      <td>קטן מ-5</td>\n",
       "    </tr>\n",
       "  </tbody>\n",
       "</table>\n",
       "<p>224 rows × 2 columns</p>\n",
       "</div>"
      ],
      "text/plain": [
       "          district casualties\n",
       "1           אשקלון       1240\n",
       "2          לא רשום        923\n",
       "3    תל אביב - יפו        799\n",
       "4          ירושלים        665\n",
       "5          באר שבע        458\n",
       "..             ...        ...\n",
       "220            ג'ת    קטן מ-5\n",
       "221            נחף    קטן מ-5\n",
       "222         סח'נין    קטן מ-5\n",
       "223           טירה    קטן מ-5\n",
       "224         דבוריה    קטן מ-5\n",
       "\n",
       "[224 rows x 2 columns]"
      ]
     },
     "execution_count": 124,
     "metadata": {},
     "output_type": "execute_result"
    }
   ],
   "source": [
    "casualties = casualties.iloc[1:]\n",
    "casualties = casualties.iloc[:, :2]\n",
    "casualties.columns = ['district', 'casualties']\n",
    "casualties"
   ]
  },
  {
   "cell_type": "code",
   "execution_count": 129,
   "metadata": {},
   "outputs": [
    {
     "name": "stderr",
     "output_type": "stream",
     "text": [
      "<ipython-input-129-bf1ff3f1544e>:4: SettingWithCopyWarning: \n",
      "A value is trying to be set on a copy of a slice from a DataFrame.\n",
      "Try using .loc[row_indexer,col_indexer] = value instead\n",
      "\n",
      "See the caveats in the documentation: https://pandas.pydata.org/pandas-docs/stable/user_guide/indexing.html#returning-a-view-versus-a-copy\n",
      "  casualties_filtered['casualties'] = pd.to_numeric(casualties_filtered['casualties'], errors='coerce')\n"
     ]
    },
    {
     "data": {
      "image/png": "[encoded data removed]",
      "text/plain": [
       "<Figure size 1008x432 with 1 Axes>"
      ]
     },
     "metadata": {
      "needs_background": "light"
     },
     "output_type": "display_data"
    }
   ],
   "source": [
    "casualties_filtered = casualties[casualties['casualties'] != \"קטן מ-5\"]\n",
    "casualties_filtered['casualties'] = pd.to_numeric(casualties_filtered['casualties'], errors='coerce')\n",
    "casualties_filtered = casualties_filtered.dropna(subset=['casualties'])\n",
    "casualties_top10 = casualties_filtered.sort_values(by='casualties', ascending=False).head(10)\n",
    "casualties_top10['district_display'] = casualties_top10['district'].apply(lambda x: get_display(arabic_reshaper.reshape(x)))\n",
    "plt.figure(figsize=(14, 6))\n",
    "bars = plt.bar(casualties_top10['district_display'], casualties_top10['casualties'])\n",
    "plt.title(get_display(arabic_reshaper.reshape('Number of Casualties per District')), fontsize=14, loc='right')\n",
    "plt.xlabel(get_display(arabic_reshaper.reshape('District')), fontsize=12, loc='right')\n",
    "plt.ylabel(get_display(arabic_reshaper.reshape('Number of Casualties')), fontsize=12, loc='bottom')\n",
    "for bar, num in zip(bars, casualties_top10['casualties']):\n",
    "    plt.text(bar.get_x() + bar.get_width() / 2, bar.get_height(), str(num), ha='center', va='bottom')\n",
    "plt.tight_layout()\n",
    "plt.show()"
   ]
  },
  {
   "cell_type": "code",
   "execution_count": 130,
   "metadata": {},
   "outputs": [
    {
     "name": "stderr",
     "output_type": "stream",
     "text": [
      "<ipython-input-130-c352877f1a73>:4: SettingWithCopyWarning: \n",
      "A value is trying to be set on a copy of a slice from a DataFrame.\n",
      "Try using .loc[row_indexer,col_indexer] = value instead\n",
      "\n",
      "See the caveats in the documentation: https://pandas.pydata.org/pandas-docs/stable/user_guide/indexing.html#returning-a-view-versus-a-copy\n",
      "  casualties_filtered['casualties'] = pd.to_numeric(casualties_filtered['casualties'], errors='coerce')\n"
     ]
    },
    {
     "data": {
      "image/png": "[encoded data removed]",
      "text/plain": [
       "<Figure size 1008x432 with 1 Axes>"
      ]
     },
     "metadata": {
      "needs_background": "light"
     },
     "output_type": "display_data"
    }
   ],
   "source": [
    "casualties_filtered = casualties[casualties['casualties'] != \"קטן מ-5\"]\n",
    "casualties_filtered['casualties'] = pd.to_numeric(casualties_filtered['casualties'], errors='coerce')\n",
    "casualties_filtered = casualties_filtered.dropna(subset=['casualties'])\n",
    "total_casualties = casualties_filtered['casualties'].sum()\n",
    "casualties_filtered['casualties_percentage'] = (casualties_filtered['casualties'] / total_casualties) * 100\n",
    "casualties_top10 = casualties_filtered.sort_values(by='casualties_percentage', ascending=False).head(10)\n",
    "casualties_top10['district_display'] = casualties_top10['district'].apply(lambda x: get_display(arabic_reshaper.reshape(x)))\n",
    "plt.figure(figsize=(14, 6))\n",
    "bars = plt.bar(casualties_top10['district_display'], casualties_top10['casualties_percentage'], color='skyblue')\n",
    "plt.title(get_display(arabic_reshaper.reshape('Percentage of Casualties per District')), fontsize=14, loc='right')\n",
    "plt.xlabel(get_display(arabic_reshaper.reshape('District')), fontsize=12, loc='right')\n",
    "plt.ylabel(get_display(arabic_reshaper.reshape('Percentage of Casualties')), fontsize=12, loc='bottom')\n",
    "for bar, num in zip(bars, casualties_top10['casualties_percentage']):\n",
    "    plt.text(bar.get_x() + bar.get_width() / 2, bar.get_height(), f\"{num:.2f}%\", ha='center', va='bottom')\n",
    "plt.tight_layout()\n",
    "plt.show()"
   ]
  },
  {
   "cell_type": "code",
   "execution_count": 133,
   "metadata": {},
   "outputs": [
    {
     "name": "stderr",
     "output_type": "stream",
     "text": [
      "<ipython-input-133-bd618e522c5f>:4: SettingWithCopyWarning: \n",
      "A value is trying to be set on a copy of a slice from a DataFrame.\n",
      "Try using .loc[row_indexer,col_indexer] = value instead\n",
      "\n",
      "See the caveats in the documentation: https://pandas.pydata.org/pandas-docs/stable/user_guide/indexing.html#returning-a-view-versus-a-copy\n",
      "  casualties_filtered['casualties'] = pd.to_numeric(casualties_filtered['casualties'], errors='coerce')\n",
      "<ipython-input-133-bd618e522c5f>:9: SettingWithCopyWarning: \n",
      "A value is trying to be set on a copy of a slice from a DataFrame.\n",
      "Try using .loc[row_indexer,col_indexer] = value instead\n",
      "\n",
      "See the caveats in the documentation: https://pandas.pydata.org/pandas-docs/stable/user_guide/indexing.html#returning-a-view-versus-a-copy\n",
      "  casualties_exceeding_1percent['district_display'] = casualties_exceeding_1percent['district'].apply(lambda x: get_display(arabic_reshaper.reshape(x)))\n"
     ]
    },
    {
     "data": {
      "image/png": "[encoded data removed]",
      "text/plain": [
       "<Figure size 1440x432 with 1 Axes>"
      ]
     },
     "metadata": {
      "needs_background": "light"
     },
     "output_type": "display_data"
    }
   ],
   "source": [
    "casualties_filtered = casualties[casualties['casualties'] != \"קטן מ-5\"]\n",
    "casualties_filtered['casualties'] = pd.to_numeric(casualties_filtered['casualties'], errors='coerce')\n",
    "casualties_filtered = casualties_filtered.dropna(subset=['casualties'])\n",
    "total_casualties = casualties_filtered['casualties'].sum()\n",
    "casualties_filtered['casualties_percentage'] = (casualties_filtered['casualties'] / total_casualties) * 100\n",
    "casualties_exceeding_1percent = casualties_filtered[casualties_filtered['casualties_percentage'] > 1]\n",
    "casualties_exceeding_1percent['district_display'] = casualties_exceeding_1percent['district'].apply(lambda x: get_display(arabic_reshaper.reshape(x)))\n",
    "plt.figure(figsize=(20, 6))\n",
    "bars = plt.bar(casualties_exceeding_1percent['district_display'], casualties_exceeding_1percent['casualties_percentage'], color='skyblue')\n",
    "plt.title(get_display(arabic_reshaper.reshape('Percentage of Casualties per District (Exceeding 1%)')), fontsize=14, loc='right')\n",
    "plt.xlabel(get_display(arabic_reshaper.reshape('District')), fontsize=12, loc='right')\n",
    "plt.ylabel(get_display(arabic_reshaper.reshape('Percentage of Casualties')), fontsize=12, loc='bottom')\n",
    "for bar, num in zip(bars, casualties_exceeding_1percent['casualties_percentage']):\n",
    "    plt.text(bar.get_x() + bar.get_width() / 2, bar.get_height(), f\"{num:.2f}%\", ha='center', va='bottom')\n",
    "plt.tight_layout()\n",
    "plt.show()"
   ]
  },
  {
   "cell_type": "markdown",
   "metadata": {},
   "source": [
    "#### It can be seen from the data **that most of the victims come from the Ashkelon area.**"
   ]
  },
  {
   "cell_type": "markdown",
   "metadata": {},
   "source": [
    "---\n",
    "> # Conclusions :\n",
    "> #### It can be seen that in terms of resources for the treatment of mentally injured and psychiatric patients **Jerusalem and Petah Tikva districts offer the most response** (both in terms of hospitals and psychiatric departments and in terms of social care centers). **On the other hand, it can be seen that the Ashkelon district is the district with the most casualties since the beginning of the war.** If we also refer to Ashdod and the other settlements around Ashkelon, we can say that **In comparison to the actual number of victims, the Ashkelon district has the greatest demand for social service and psychiatric treatment facilities.**\n",
    "---\n"
   ]
  },
  {
   "cell_type": "markdown",
   "metadata": {},
   "source": [
    "---\n",
    "> # Recommendations :\n",
    "> #### Based on the assumption that a physical casualty has a psychological evaluation and is given a choice for psychological therapy and assistance, the data analysis is based on general casualty data. To further delve into the conclusion, I plan to gather information on the number of hospitalized wards in each center as well as the percentage of mental casualties from the conflict compared to total casualties. This will allow me to accurately assess the significance and depth of the results.\n",
    "> #### We can also say that in the Sea of Galilee and Tiberias there is no response to the need for mental and psychiatric treatment centers for minors and children (the closest center is in Zefat). In the future, when the evacuated residents of the north return, the disadvantage in these centers will be felt even more, and therefore emphasis must be given to a more in-depth study of the demand for centers of this type or suitable alternatives in the north and especially in the Kinneret district.\n",
    "---\n"
   ]
  },
  {
   "cell_type": "code",
   "execution_count": null,
   "metadata": {},
   "outputs": [],
   "source": []
  }
 ],
 "metadata": {
  "kernelspec": {
   "display_name": "Python 3",
   "language": "python",
   "name": "python3"
  },
  "language_info": {
   "codemirror_mode": {
    "name": "ipython",
    "version": 3
   },
   "file_extension": ".py",
   "mimetype": "text/x-python",
   "name": "python",
   "nbconvert_exporter": "python",
   "pygments_lexer": "ipython3",
   "version": "3.8.3"
  }
 },
 "nbformat": 4,
 "nbformat_minor": 4
}
